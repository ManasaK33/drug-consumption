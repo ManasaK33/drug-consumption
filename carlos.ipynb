{
 "cells": [
  {
   "cell_type": "code",
   "execution_count": 43,
   "metadata": {},
   "outputs": [],
   "source": [
    "import pandas as pd\n",
    "import numpy as np\n",
    "import matplotlib.pyplot as plt\n",
    "import matplotlib.patches as mpatches\n",
    "import matplotlib as mpl\n",
    "from sklearn.ensemble import RandomForestClassifier\n",
    "from sklearn.model_selection import cross_val_score\n",
    "from sklearn.model_selection import RandomizedSearchCV\n",
    "from sklearn.feature_selection import SelectFromModel\n",
    "from sklearn import metrics\n",
    "from scipy.stats import pearsonr\n",
    "from scipy.stats import spearmanr\n",
    "import math"
   ]
  },
  {
   "cell_type": "code",
   "execution_count": 44,
   "metadata": {},
   "outputs": [],
   "source": [
    "def gender_map(x):\n",
    "    if math.isclose(x, 0.48246):\n",
    "        return 'Female'\n",
    "    else:\n",
    "        return 'Male'"
   ]
  },
  {
   "cell_type": "code",
   "execution_count": 45,
   "metadata": {},
   "outputs": [],
   "source": [
    "def country_map(x):\n",
    "    countries = [(-0.09765, 'Australia'), (0.24923,'Canada'), \n",
    "               (-0.46841,'New Zealand'), (0.21128,'Republic of Ireland'), \n",
    "               (0.96082,'UK'), (-0.57009,'USA'), (-0.28519,'Other')]\n",
    "    for (value, country) in countries:\n",
    "        if math.isclose(x, value):\n",
    "            return country;\n",
    "    return None"
   ]
  },
  {
   "cell_type": "code",
   "execution_count": 46,
   "metadata": {},
   "outputs": [],
   "source": [
    "# Function to determine illegal drug usage per person\n",
    "def is_drug_user(row):\n",
    "    row = row['Amphet':]\n",
    "    num_zeros = (row == 0).astype(bool).sum()\n",
    "    if num_zeros == row.size:\n",
    "        return False\n",
    "    return True"
   ]
  },
  {
   "cell_type": "code",
   "execution_count": 47,
   "metadata": {},
   "outputs": [],
   "source": [
    "train_data = pd.read_csv(\"train_data.csv\", delimiter='\\t', index_col=0)\n",
    "test_data = pd.read_csv(\"test_data.csv\", delimiter='\\t', index_col=0)"
   ]
  },
  {
   "cell_type": "code",
   "execution_count": 48,
   "metadata": {},
   "outputs": [],
   "source": [
    "def create_plot(ax, data, color='#99004f'):\n",
    "    usage = data.apply(pd.Series.value_counts, axis=0)\n",
    "    drug = usage.iloc[:,0].name\n",
    "    usages = usage.sort_index().iloc[:,0].values\n",
    "    width = 0.05\n",
    "    xpos = np.arange(len(usage.index),dtype='float64')\n",
    "    xpos *= 0.10\n",
    "    ax.bar(xpos, usages, width=width, color=color)\n",
    "    rects = ax.patches\n",
    "    for rect, usage in zip(rects,usages):\n",
    "        x = rect.get_x() + rect.get_width()/2\n",
    "        y = rect.get_height() + 0.5\n",
    "        ax.text(x, y, usage, ha='center',va='bottom', fontsize=5)\n",
    "    \n",
    "    usage_texts = ['Never Used','Decade Ago','Last Decade', \n",
    "                   'Last Year', 'Last Month', \n",
    "                   'Last Week', 'Last Day']\n",
    "    ax.set_ylim(bottom=0, top=1800)\n",
    "    ax.set_xticks(xpos)\n",
    "    ax.set_xticklabels(usage_texts)\n",
    "    ax.tick_params(axis='y', labelsize=4)\n",
    "    ax.tick_params(axis ='x', labelrotation=15, labelsize=4, width=0.7)\n",
    "    ax.text(0.5, 0.9, drug, horizontalalignment='center', \n",
    "            transform=ax.transAxes, fontsize=9)"
   ]
  },
  {
   "cell_type": "code",
   "execution_count": 49,
   "metadata": {},
   "outputs": [],
   "source": [
    "def create_usage_subplots(data):\n",
    "    \n",
    "    colors = ['#99004f', '#007acc', '#009900', '#e67300',\n",
    "              '#cc0000','#0000b3', '#7a00cc', '#e6e600',\n",
    "              '#2eb8b8']\n",
    "    \n",
    "    data = data.rename(columns={'Amphet':'Amphetamine', 'Amyl':'Amyl Nitrite',\n",
    "            'Benzos':'Benzodiazepine','Caff':'Caffeine','Coke':'Cocaine',\n",
    "            'Meth':'Methamphetamine'})\n",
    "    \n",
    "    \n",
    "    drug_data = data.loc[:,'Alcohol':].apply(lambda series: series.astype(bool).sum(),axis=0)\n",
    "    drug_data = drug_data.sort_values(ascending=False)\n",
    "    \n",
    "    drugs = drug_data.index.values\n",
    "\n",
    "    nrows = 5\n",
    "    ncols= 4\n",
    "    fig, axs = plt.subplots(nrows=nrows, ncols=ncols, sharex=False, sharey=True, figsize=(10,8))\n",
    "    plt.subplots_adjust(wspace=0.02, hspace= 0.3, top = 0.95)\n",
    "    color_idx = 0\n",
    "    i = 0\n",
    "    for row in range(nrows):\n",
    "        for col in range(ncols):\n",
    "            if col != 0:\n",
    "                axs[row, col].tick_params(axis='y', width=0)\n",
    "            if i >= len(drugs):\n",
    "                axs[row, col].set_visible(False)\n",
    "            else:\n",
    "                create_plot(axs[row, col], data[[drugs[i]]], colors[color_idx])\n",
    "            i += 1\n",
    "            color_idx = (color_idx+1)%len(colors)\n",
    "    fig.savefig('figures/drugs.png', dpi=300)\n",
    "    plt.show()\n",
    "    plt.clf()"
   ]
  },
  {
   "cell_type": "code",
   "execution_count": 50,
   "metadata": {},
   "outputs": [],
   "source": [
    "plot_data = pd.read_csv('drug_consumption.csv')\n",
    "mpl.rcParams['axes.linewidth'] = 0.5"
   ]
  },
  {
   "cell_type": "code",
   "execution_count": 51,
   "metadata": {},
   "outputs": [],
   "source": [
    "# label encode categorical variables\n",
    "for column in plot_data.loc[:,'Alcohol':'VSA']:\n",
    "    # get label encoding for column\n",
    "    plot_data[column] = plot_data[column].astype('category').cat.codes\n",
    "    # convert column to numeric type\n",
    "    plot_data[column] = plot_data[column].astype('int32')"
   ]
  },
  {
   "cell_type": "code",
   "execution_count": 52,
   "metadata": {},
   "outputs": [],
   "source": [
    "# drop fake drug\n",
    "del plot_data['Semer'] \n",
    "# drop ID variable\n",
    "del plot_data['ID']\n",
    "# drop chocolate\n",
    "del plot_data['Choc']"
   ]
  },
  {
   "cell_type": "code",
   "execution_count": 53,
   "metadata": {},
   "outputs": [
    {
     "data": {
      "image/png": "[encoded data removed]",
      "text/plain": [
       "<Figure size 720x576 with 20 Axes>"
      ]
     },
     "metadata": {
      "needs_background": "light"
     },
     "output_type": "display_data"
    },
    {
     "data": {
      "text/plain": [
       "<Figure size 432x288 with 0 Axes>"
      ]
     },
     "metadata": {},
     "output_type": "display_data"
    }
   ],
   "source": [
    "create_usage_subplots(plot_data)"
   ]
  },
  {
   "cell_type": "code",
   "execution_count": 54,
   "metadata": {},
   "outputs": [],
   "source": [
    "min_score = plot_data.loc[:,'Nscore':'Cscore'].min().values.min()\n",
    "plot_data.loc[:,'Nscore':'Cscore'] += abs(min_score)"
   ]
  },
  {
   "cell_type": "code",
   "execution_count": 55,
   "metadata": {},
   "outputs": [],
   "source": [
    "plot_data['Drug User'] = plot_data.drop(['Alcohol', 'Nicotine','Caff'], axis=1).apply(is_drug_user, axis=1)\n",
    "plot_data['Gender']= plot_data['Gender'].apply(gender_map)\n",
    "plot_data['Country']=plot_data['Country'].apply(country_map)"
   ]
  },
  {
   "cell_type": "code",
   "execution_count": 56,
   "metadata": {},
   "outputs": [],
   "source": [
    "# Create dataset for drug users\n",
    "users = plot_data.loc[plot_data['Drug User'] == True]\n",
    "# Create dataset for non-drug users\n",
    "nonusers = plot_data.loc[plot_data['Drug User'] == False]"
   ]
  },
  {
   "cell_type": "code",
   "execution_count": 57,
   "metadata": {},
   "outputs": [],
   "source": [
    "# Get data for male drug users\n",
    "male_users = users.loc[(users['Gender'] == 'Male')]\n",
    "male_users = male_users.reset_index(drop=True)"
   ]
  },
  {
   "cell_type": "code",
   "execution_count": 58,
   "metadata": {},
   "outputs": [],
   "source": [
    "# Get data for female drug users\n",
    "female_users = users.loc[(users['Gender'] == 'Female')]\n",
    "female_users = female_users.reset_index(drop=True)"
   ]
  },
  {
   "cell_type": "code",
   "execution_count": 59,
   "metadata": {},
   "outputs": [],
   "source": [
    "def create_personality_plot(users, nonusers):\n",
    "    traits = ['Neuroticism', 'Extraversion', 'Openness', \n",
    "              'Agreeablenes', 'Conscientiousnes']\n",
    "    users_scores = users.loc[:,'Nscore':'Cscore'].mean().values\n",
    "    nonusers_scores = nonusers.loc[:,'Nscore':'Cscore'].mean().values\n",
    "    width = 0.3\n",
    "    users_xpos = np.arange(len(users_scores))\n",
    "    nonusers_xpos = [x + width for x in users_xpos]\n",
    "    \n",
    "    plt.bar(users_xpos, users_scores, width=width, color=['#007acc'], label='Users')\n",
    "    plt.bar(nonusers_xpos, nonusers_scores, width=width, color=['#009900'], label='Non-users')\n",
    "    ax = plt.gca()\n",
    "    rects = ax.patches\n",
    "    for rect, score in zip(rects[:5],users_scores):\n",
    "        x = rect.get_x() + rect.get_width()/2\n",
    "        y = rect.get_height() + 0.05\n",
    "        ax.text(x, y, np.round(score, 2), ha='center',va='bottom', fontsize=10)\n",
    "    for rect, score in zip(rects[5:],nonusers_scores):\n",
    "        x = rect.get_x() + rect.get_width()/2\n",
    "        y = rect.get_height() + 0.05\n",
    "        ax.text(x, y, np.round(score, 2), ha='center',va='bottom', fontsize=10)\n",
    "    plt.title('Personality Trait Scores for Illegal Drug Users')\n",
    "    plt.xlabel('Personality Traits')\n",
    "    plt.ylabel('Mean Scores')\n",
    "    plt.xticks(users_xpos, traits)\n",
    "    plt.legend(loc='upper center', bbox_to_anchor=(1.2, 0.9), shadow=True, ncol=1)\n",
    "    fig = plt.gcf()\n",
    "    fig.set_size_inches(10,9)\n",
    "    plt.savefig('figures/traits.png', dpi=300)\n",
    "    plt.show()\n",
    "    plt.clf()"
   ]
  },
  {
   "cell_type": "code",
   "execution_count": 60,
   "metadata": {},
   "outputs": [
    {
     "data": {
      "image/png": "[encoded data removed]",
      "text/plain": [
       "<Figure size 720x648 with 1 Axes>"
      ]
     },
     "metadata": {
      "needs_background": "light"
     },
     "output_type": "display_data"
    },
    {
     "data": {
      "text/plain": [
       "<Figure size 432x288 with 0 Axes>"
      ]
     },
     "metadata": {},
     "output_type": "display_data"
    }
   ],
   "source": [
    "create_personality_plot(users, nonusers)"
   ]
  },
  {
   "cell_type": "code",
   "execution_count": 61,
   "metadata": {},
   "outputs": [],
   "source": [
    "def create_gender_plot(male_users, female_users):\n",
    "    xpos = np.arange(2)\n",
    "    bars = [len(male_users.index), len(female_users.index)]\n",
    "    \n",
    "    plt.bar(xpos, bars, width=0.3, color=['#2eb8b8','#99004f'], align='center')\n",
    "    plt.xticks(xpos, ['Male', 'Female'])\n",
    "    plt.title('Illegal Drug Usage by Gender')\n",
    "    plt.ylabel('Users')\n",
    "    fig = plt.gcf()\n",
    "    fig.set_size_inches(8,6)\n",
    "    plt.savefig('figures/genders.png', dpi=300)\n",
    "    plt.show()\n",
    "    plt.clf()"
   ]
  },
  {
   "cell_type": "code",
   "execution_count": 62,
   "metadata": {},
   "outputs": [
    {
     "data": {
      "image/png": "[encoded data removed]",
      "text/plain": [
       "<Figure size 576x432 with 1 Axes>"
      ]
     },
     "metadata": {
      "needs_background": "light"
     },
     "output_type": "display_data"
    },
    {
     "data": {
      "text/plain": [
       "<Figure size 432x288 with 0 Axes>"
      ]
     },
     "metadata": {},
     "output_type": "display_data"
    }
   ],
   "source": [
    "create_gender_plot(male_users, female_users)"
   ]
  },
  {
   "cell_type": "code",
   "execution_count": 21,
   "metadata": {},
   "outputs": [],
   "source": [
    "train_data = train_data.reset_index(drop=True)\n",
    "test_data = test_data.reset_index(drop=True)"
   ]
  },
  {
   "cell_type": "code",
   "execution_count": 22,
   "metadata": {},
   "outputs": [
    {
     "name": "stdout",
     "output_type": "stream",
     "text": [
      "<class 'pandas.core.frame.DataFrame'>\n",
      "RangeIndex: 1319 entries, 0 to 1318\n",
      "Data columns (total 32 columns):\n",
      "ID           1319 non-null int64\n",
      "Age          1319 non-null float64\n",
      "Gender       1319 non-null float64\n",
      "Education    1319 non-null float64\n",
      "Country      1319 non-null float64\n",
      "Ethnicity    1319 non-null float64\n",
      "Nscore       1319 non-null float64\n",
      "Escore       1319 non-null float64\n",
      "Oscore       1319 non-null float64\n",
      "Ascore       1319 non-null float64\n",
      "Cscore       1319 non-null float64\n",
      "Impulsive    1319 non-null float64\n",
      "SS           1319 non-null float64\n",
      "Alcohol      1319 non-null object\n",
      "Amphet       1319 non-null object\n",
      "Amyl         1319 non-null object\n",
      "Benzos       1319 non-null object\n",
      "Caff         1319 non-null object\n",
      "Cannabis     1319 non-null object\n",
      "Choc         1319 non-null object\n",
      "Coke         1319 non-null object\n",
      "Crack        1319 non-null object\n",
      "Ecstacy      1319 non-null object\n",
      "Heroin       1319 non-null object\n",
      "Ketamine     1319 non-null object\n",
      "Legalh       1319 non-null object\n",
      "LSD          1319 non-null object\n",
      "Meth         1319 non-null object\n",
      "Mushrooms    1319 non-null object\n",
      "Nicotine     1319 non-null object\n",
      "Semer        1319 non-null object\n",
      "VSA          1319 non-null object\n",
      "dtypes: float64(12), int64(1), object(19)\n",
      "memory usage: 329.9+ KB\n"
     ]
    }
   ],
   "source": [
    "train_data.info()"
   ]
  },
  {
   "cell_type": "code",
   "execution_count": 23,
   "metadata": {},
   "outputs": [],
   "source": [
    "# Drop ID, Chocolate, the fake drug Semer, and legal substances\n",
    "train_data.drop(['ID', 'Choc', 'Semer', 'Alcohol', 'Nicotine', 'Caff','Legalh'], axis=1, inplace=True)\n",
    "test_data.drop(['ID', 'Choc', 'Semer', 'Alcohol', 'Nicotine', 'Caff','Legalh'], axis=1, inplace=True)"
   ]
  },
  {
   "cell_type": "code",
   "execution_count": 24,
   "metadata": {},
   "outputs": [],
   "source": [
    "for column in train_data.loc[:,'Amphet':]:\n",
    "    # get label encoding for column\n",
    "    train_data[column] = train_data[column].astype('category').cat.codes.astype('int32')\n",
    "    test_data[column] = test_data[column].astype('category').cat.codes.astype('int32')"
   ]
  },
  {
   "cell_type": "code",
   "execution_count": 25,
   "metadata": {},
   "outputs": [
    {
     "name": "stdout",
     "output_type": "stream",
     "text": [
      "<class 'pandas.core.frame.DataFrame'>\n",
      "RangeIndex: 1319 entries, 0 to 1318\n",
      "Data columns (total 26 columns):\n",
      "Age          1319 non-null float64\n",
      "Gender       1319 non-null float64\n",
      "Education    1319 non-null float64\n",
      "Country      1319 non-null float64\n",
      "Ethnicity    1319 non-null float64\n",
      "Nscore       1319 non-null float64\n",
      "Escore       1319 non-null float64\n",
      "Oscore       1319 non-null float64\n",
      "Ascore       1319 non-null float64\n",
      "Cscore       1319 non-null float64\n",
      "Impulsive    1319 non-null float64\n",
      "SS           1319 non-null float64\n",
      "Amphet       1319 non-null int32\n",
      "Amyl         1319 non-null int32\n",
      "Benzos       1319 non-null int32\n",
      "Cannabis     1319 non-null int32\n",
      "Coke         1319 non-null int32\n",
      "Crack        1319 non-null int32\n",
      "Ecstacy      1319 non-null int32\n",
      "Heroin       1319 non-null int32\n",
      "Ketamine     1319 non-null int32\n",
      "LSD          1319 non-null int32\n",
      "Meth         1319 non-null int32\n",
      "Mushrooms    1319 non-null int32\n",
      "VSA          1319 non-null int32\n",
      "Drug User    1319 non-null bool\n",
      "dtypes: bool(1), float64(12), int32(13)\n",
      "memory usage: 192.0 KB\n"
     ]
    }
   ],
   "source": [
    "# Combine illegal drug usage into a single boolean variable\n",
    "train_data['Drug User'] = train_data.apply(is_drug_user, axis=1)\n",
    "test_data['Drug User'] = test_data.apply(is_drug_user, axis=1)\n",
    "train_data.info()"
   ]
  },
  {
   "cell_type": "code",
   "execution_count": 26,
   "metadata": {},
   "outputs": [],
   "source": [
    "X_train = train_data.loc[:,'Age':'SS']\n",
    "y_train = train_data['Drug User']"
   ]
  },
  {
   "cell_type": "code",
   "execution_count": 27,
   "metadata": {},
   "outputs": [
    {
     "name": "stdout",
     "output_type": "stream",
     "text": [
      "['Age' 'Education' 'Country' 'Nscore' 'Escore' 'Oscore' 'Ascore' 'Cscore'\n",
      " 'Impulsive' 'SS']\n"
     ]
    },
    {
     "name": "stderr",
     "output_type": "stream",
     "text": [
      "/opt/anaconda3/lib/python3.7/site-packages/sklearn/ensemble/forest.py:245: FutureWarning: The default value of n_estimators will change from 10 in version 0.20 to 100 in 0.22.\n",
      "  \"10 in version 0.20 to 100 in 0.22.\", FutureWarning)\n"
     ]
    }
   ],
   "source": [
    "# Feature selection\n",
    "sel = SelectFromModel(RandomForestClassifier(random_state=0), threshold=0.05)\n",
    "sel.fit(X_train, y_train)\n",
    "selected_feat= X_train.columns[(sel.get_support())]\n",
    "print(selected_feat.values)"
   ]
  },
  {
   "cell_type": "code",
   "execution_count": 28,
   "metadata": {},
   "outputs": [],
   "source": [
    "# Grid search for random forest\n",
    "max_features = ['auto', 'sqrt']\n",
    "max_depth = [int(x) for x in np.linspace(5, 100, num = 20)] + [None]\n",
    "n_estimators = [int(x) for x in np.linspace(start = 100, stop = 1000, num = 20)]\n",
    "min_samples_split = [2, 5, 10]\n",
    "min_samples_leaf = [1, 2, 4]\n",
    "bootstrap = [True, False]\n",
    "grid = {'max_features': max_features,\n",
    "        'max_depth': max_depth,\n",
    "        'n_estimators': n_estimators,\n",
    "        'min_samples_split': min_samples_split,\n",
    "        'min_samples_leaf': min_samples_leaf,\n",
    "        'bootstrap': bootstrap}"
   ]
  },
  {
   "cell_type": "code",
   "execution_count": 29,
   "metadata": {},
   "outputs": [],
   "source": [
    "# Base classifier used for grid search\n",
    "forest = RandomForestClassifier(random_state=0)\n",
    "# Use 100 iterations and 10-fold cross-validation, using 4 cores\n",
    "forest_grid_search = RandomizedSearchCV(estimator = forest, param_distributions = grid, \n",
    "                               n_iter = 100, cv = 10, verbose=2, random_state=0, n_jobs = 4)"
   ]
  },
  {
   "cell_type": "code",
   "execution_count": 30,
   "metadata": {},
   "outputs": [],
   "source": [
    "# Use features selected for training and testing\n",
    "X_train = train_data[selected_feat.values]\n",
    "y_train = train_data['Drug User']\n",
    "\n",
    "X_test = test_data[selected_feat.values]\n",
    "y_test = test_data['Drug User']"
   ]
  },
  {
   "cell_type": "code",
   "execution_count": 31,
   "metadata": {},
   "outputs": [
    {
     "name": "stdout",
     "output_type": "stream",
     "text": [
      "Fitting 10 folds for each of 100 candidates, totalling 1000 fits\n"
     ]
    },
    {
     "name": "stderr",
     "output_type": "stream",
     "text": [
      "[Parallel(n_jobs=4)]: Using backend LokyBackend with 4 concurrent workers.\n",
      "[Parallel(n_jobs=4)]: Done  33 tasks      | elapsed:   20.3s\n",
      "[Parallel(n_jobs=4)]: Done 154 tasks      | elapsed:  1.2min\n",
      "[Parallel(n_jobs=4)]: Done 357 tasks      | elapsed:  2.6min\n",
      "[Parallel(n_jobs=4)]: Done 640 tasks      | elapsed:  4.5min\n",
      "[Parallel(n_jobs=4)]: Done 1000 out of 1000 | elapsed:  6.8min finished\n"
     ]
    },
    {
     "data": {
      "text/plain": [
       "RandomizedSearchCV(cv=10, error_score='raise-deprecating',\n",
       "                   estimator=RandomForestClassifier(bootstrap=True,\n",
       "                                                    class_weight=None,\n",
       "                                                    criterion='gini',\n",
       "                                                    max_depth=None,\n",
       "                                                    max_features='auto',\n",
       "                                                    max_leaf_nodes=None,\n",
       "                                                    min_impurity_decrease=0.0,\n",
       "                                                    min_impurity_split=None,\n",
       "                                                    min_samples_leaf=1,\n",
       "                                                    min_samples_split=2,\n",
       "                                                    min_weight_fraction_leaf=0.0,\n",
       "                                                    n_estimators='warn',\n",
       "                                                    n_jobs=None,\n",
       "                                                    oob_s...\n",
       "                                        'max_depth': [5, 10, 15, 20, 25, 30, 35,\n",
       "                                                      40, 45, 50, 55, 60, 65,\n",
       "                                                      70, 75, 80, 85, 90, 95,\n",
       "                                                      100, None],\n",
       "                                        'max_features': ['auto', 'sqrt'],\n",
       "                                        'min_samples_leaf': [1, 2, 4],\n",
       "                                        'min_samples_split': [2, 5, 10],\n",
       "                                        'n_estimators': [100, 147, 194, 242,\n",
       "                                                         289, 336, 384, 431,\n",
       "                                                         478, 526, 573, 621,\n",
       "                                                         668, 715, 763, 810,\n",
       "                                                         857, 905, 952, 1000]},\n",
       "                   pre_dispatch='2*n_jobs', random_state=0, refit=True,\n",
       "                   return_train_score=False, scoring=None, verbose=2)"
      ]
     },
     "execution_count": 31,
     "metadata": {},
     "output_type": "execute_result"
    }
   ],
   "source": [
    "# Fit features selected to grid search (slow process)\n",
    "forest_grid_search.fit(X_train, y_train)"
   ]
  },
  {
   "cell_type": "code",
   "execution_count": 32,
   "metadata": {
    "scrolled": true
   },
   "outputs": [
    {
     "data": {
      "text/plain": [
       "{'n_estimators': 384,\n",
       " 'min_samples_split': 2,\n",
       " 'min_samples_leaf': 2,\n",
       " 'max_features': 'sqrt',\n",
       " 'max_depth': 30,\n",
       " 'bootstrap': True}"
      ]
     },
     "execution_count": 32,
     "metadata": {},
     "output_type": "execute_result"
    }
   ],
   "source": [
    "# Store the dictionary of best parameters\n",
    "params = forest_grid_search.best_params_\n",
    "params"
   ]
  },
  {
   "cell_type": "code",
   "execution_count": 33,
   "metadata": {},
   "outputs": [
    {
     "name": "stdout",
     "output_type": "stream",
     "text": [
      "<class 'pandas.core.frame.DataFrame'>\n",
      "RangeIndex: 100 entries, 0 to 99\n",
      "Data columns (total 24 columns):\n",
      "mean_fit_time              100 non-null float64\n",
      "std_fit_time               100 non-null float64\n",
      "mean_score_time            100 non-null float64\n",
      "std_score_time             100 non-null float64\n",
      "param_n_estimators         100 non-null object\n",
      "param_min_samples_split    100 non-null object\n",
      "param_min_samples_leaf     100 non-null object\n",
      "param_max_features         100 non-null object\n",
      "param_max_depth            93 non-null object\n",
      "param_bootstrap            100 non-null object\n",
      "params                     100 non-null object\n",
      "split0_test_score          100 non-null float64\n",
      "split1_test_score          100 non-null float64\n",
      "split2_test_score          100 non-null float64\n",
      "split3_test_score          100 non-null float64\n",
      "split4_test_score          100 non-null float64\n",
      "split5_test_score          100 non-null float64\n",
      "split6_test_score          100 non-null float64\n",
      "split7_test_score          100 non-null float64\n",
      "split8_test_score          100 non-null float64\n",
      "split9_test_score          100 non-null float64\n",
      "mean_test_score            100 non-null float64\n",
      "std_test_score             100 non-null float64\n",
      "rank_test_score            100 non-null int32\n",
      "dtypes: float64(16), int32(1), object(7)\n",
      "memory usage: 18.5+ KB\n"
     ]
    }
   ],
   "source": [
    "search_data = pd.DataFrame(forest_grid_search.cv_results_)\n",
    "search_data.info()"
   ]
  },
  {
   "cell_type": "code",
   "execution_count": 34,
   "metadata": {},
   "outputs": [],
   "source": [
    "# Convert estimators column to integer type\n",
    "search_data['param_n_estimators'] = search_data['param_n_estimators'].astype('int32')"
   ]
  },
  {
   "cell_type": "code",
   "execution_count": 35,
   "metadata": {},
   "outputs": [
    {
     "data": {
      "text/plain": [
       "<bound method NDFrame.head of     param_n_estimators  mean_fit_time  mean_test_score\n",
       "37                 100       0.248846         0.840788\n",
       "64                 100       0.286699         0.844579\n",
       "94                 100       0.267994         0.843821\n",
       "66                 147       0.379400         0.840788\n",
       "26                 147       0.386410         0.846096\n",
       "..                 ...            ...              ...\n",
       "6                 1000       2.441276         0.842305\n",
       "5                 1000       2.516215         0.846096\n",
       "1                 1000       2.861952         0.842305\n",
       "17                1000       2.622465         0.848370\n",
       "41                1000       2.523083         0.847612\n",
       "\n",
       "[100 rows x 3 columns]>"
      ]
     },
     "execution_count": 35,
     "metadata": {},
     "output_type": "execute_result"
    }
   ],
   "source": [
    "estimators = search_data[['param_n_estimators', 'mean_fit_time', 'mean_test_score']].sort_values(\n",
    "    by=['param_n_estimators'])\n",
    "estimators.head"
   ]
  },
  {
   "cell_type": "code",
   "execution_count": 36,
   "metadata": {},
   "outputs": [
    {
     "data": {
      "text/plain": [
       "<bound method NDFrame.head of    param_max_depth  mean_test_score\n",
       "0                5         0.843821\n",
       "1                5         0.843821\n",
       "2                5         0.844579\n",
       "3                5         0.843821\n",
       "4               10         0.846096\n",
       "..             ...              ...\n",
       "88             100         0.834723\n",
       "89             100         0.836998\n",
       "90             100         0.846096\n",
       "91             100         0.842305\n",
       "92             100         0.846096\n",
       "\n",
       "[93 rows x 2 columns]>"
      ]
     },
     "execution_count": 36,
     "metadata": {},
     "output_type": "execute_result"
    }
   ],
   "source": [
    "max_depths = search_data[['param_max_depth', 'mean_test_score']]\n",
    "# Remove rows with max depth of None for plotting\n",
    "max_depths = max_depths[max_depths['param_max_depth'].notnull()]\n",
    "# Sort values by max depth\n",
    "max_depths.sort_values(by=['param_max_depth'], inplace=True)\n",
    "max_depths.reset_index(drop=True, inplace=True)\n",
    "max_depths.head"
   ]
  },
  {
   "cell_type": "code",
   "execution_count": 37,
   "metadata": {},
   "outputs": [
    {
     "data": {
      "image/png": "[encoded data removed]",
      "text/plain": [
       "<Figure size 1440x360 with 3 Axes>"
      ]
     },
     "metadata": {
      "needs_background": "light"
     },
     "output_type": "display_data"
    }
   ],
   "source": [
    "# Plot visuals for grid search\n",
    "fig, (ax1, ax2, ax3) = plt.subplots(1, 3, sharex=False, sharey=False)\n",
    "plt.subplots_adjust(wspace=0.3)\n",
    "fig.set_size_inches(20, 5)\n",
    "\n",
    "ax1.plot(estimators['param_n_estimators'], estimators['mean_fit_time'], color='#cc5200')\n",
    "ax1.set_xlabel('Decision Trees')\n",
    "ax1.set_ylabel('Mean Training Time (s)')\n",
    "ax1.set_title('Mean Training Time by Number of Decision Trees', fontdict={'fontsize':10.5})\n",
    "\n",
    "ax2.plot(estimators['param_n_estimators'], estimators['mean_test_score'], color='#00b300')\n",
    "ax2.set_xlabel('Decision Trees')\n",
    "ax2.set_ylabel('Mean Test Score')\n",
    "ax2.set_title('Mean Test Score by Number of Decision Trees',fontdict={'fontsize':10.5})\n",
    "\n",
    "ax3.plot(max_depths['param_max_depth'], max_depths['mean_test_score'], color='#007acc')\n",
    "ax3.set_xlabel('Max Depth of Decision Trees')\n",
    "ax3.set_ylabel('Mean Test Score')\n",
    "ax3.set_title('Mean Test Score by Decision Tree Depth',fontdict={'fontsize':10.5})\n",
    "plt.savefig('gridsearch.png', dpi=300)"
   ]
  },
  {
   "cell_type": "code",
   "execution_count": 38,
   "metadata": {},
   "outputs": [],
   "source": [
    "# Get mean cross-validation score using best paramaters from grid search\n",
    "forest = RandomForestClassifier(n_estimators=params['n_estimators'], min_samples_split=params['min_samples_split'], \n",
    "                                min_samples_leaf=params['min_samples_leaf'], max_features=params['max_features'], \n",
    "                                max_depth=params['max_depth'], bootstrap=params['bootstrap'], random_state=0)"
   ]
  },
  {
   "cell_type": "code",
   "execution_count": 39,
   "metadata": {},
   "outputs": [],
   "source": [
    "scores = cross_val_score(forest, X_train, y_train, scoring='f1', cv=10)"
   ]
  },
  {
   "cell_type": "code",
   "execution_count": 40,
   "metadata": {},
   "outputs": [
    {
     "name": "stdout",
     "output_type": "stream",
     "text": [
      "Mean F1 Score: 0.916006\n"
     ]
    }
   ],
   "source": [
    "print(\"Mean F1 Score: %f\"%(scores.mean()))"
   ]
  },
  {
   "cell_type": "code",
   "execution_count": 41,
   "metadata": {},
   "outputs": [
    {
     "data": {
      "text/plain": [
       "RandomForestClassifier(bootstrap=True, class_weight=None, criterion='gini',\n",
       "                       max_depth=30, max_features='sqrt', max_leaf_nodes=None,\n",
       "                       min_impurity_decrease=0.0, min_impurity_split=None,\n",
       "                       min_samples_leaf=2, min_samples_split=2,\n",
       "                       min_weight_fraction_leaf=0.0, n_estimators=384,\n",
       "                       n_jobs=None, oob_score=False, random_state=0, verbose=0,\n",
       "                       warm_start=False)"
      ]
     },
     "execution_count": 41,
     "metadata": {},
     "output_type": "execute_result"
    }
   ],
   "source": [
    "forest = RandomForestClassifier(n_estimators=params['n_estimators'], min_samples_split=params['min_samples_split'], \n",
    "                                min_samples_leaf=params['min_samples_leaf'], max_features=params['max_features'], \n",
    "                                max_depth=params['max_depth'], bootstrap=params['bootstrap'], random_state=0)\n",
    "forest.fit(X_train, y_train)"
   ]
  },
  {
   "cell_type": "code",
   "execution_count": 42,
   "metadata": {},
   "outputs": [
    {
     "name": "stdout",
     "output_type": "stream",
     "text": [
      "Accuracy:   0.823\n",
      "Error:      0.177\n",
      "Precision:  [0.48571429 0.84557439]\n",
      "Recall:     [0.17171717 0.9614561 ]\n",
      "F1 score:   [0.25373134 0.8997996 ]\n"
     ]
    }
   ],
   "source": [
    "# Calculate metrics\n",
    "y_pred = forest.predict(X_test)\n",
    "accuracy  = metrics.accuracy_score(y_test, y_pred)\n",
    "error     = 1 - metrics.accuracy_score(y_test, y_pred)\n",
    "precision = metrics.precision_score(y_test, y_pred, average=None)\n",
    "recall    = metrics.recall_score(y_test, y_pred, average=None)\n",
    "f1_score  = metrics.f1_score(y_test, y_pred, average=None)\n",
    "print('Accuracy:  ', '%0.3f'%(accuracy))\n",
    "print('Error:     ', '%0.3f'%(error))\n",
    "print('Precision: ', precision)\n",
    "print('Recall:    ', recall)\n",
    "print('F1 score:  ', f1_score)"
   ]
  },
  {
   "cell_type": "code",
   "execution_count": null,
   "metadata": {},
   "outputs": [],
   "source": []
  },
  {
   "cell_type": "code",
   "execution_count": null,
   "metadata": {},
   "outputs": [],
   "source": []
  },
  {
   "cell_type": "code",
   "execution_count": null,
   "metadata": {},
   "outputs": [],
   "source": []
  }
 ],
 "metadata": {
  "kernelspec": {
   "display_name": "Python 3",
   "language": "python",
   "name": "python3"
  },
  "language_info": {
   "codemirror_mode": {
    "name": "ipython",
    "version": 3
   },
   "file_extension": ".py",
   "mimetype": "text/x-python",
   "name": "python",
   "nbconvert_exporter": "python",
   "pygments_lexer": "ipython3",
   "version": "3.7.4"
  }
 },
 "nbformat": 4,
 "nbformat_minor": 2
}
