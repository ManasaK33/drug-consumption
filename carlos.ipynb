{
 "cells": [
  {
   "cell_type": "code",
   "execution_count": 1,
   "metadata": {},
   "outputs": [],
   "source": [
    "import pandas as pd\n",
    "import numpy as np\n",
    "import matplotlib.pyplot as plt\n",
    "from sklearn.ensemble import RandomForestClassifier\n",
    "from sklearn.model_selection import cross_val_score\n",
    "from sklearn.model_selection import RandomizedSearchCV\n",
    "from sklearn.feature_selection import SelectFromModel\n",
    "from sklearn import metrics\n",
    "from scipy.stats import pearsonr\n",
    "from scipy.stats import spearmanr"
   ]
  },
  {
   "cell_type": "code",
   "execution_count": 2,
   "metadata": {},
   "outputs": [],
   "source": [
    "train_data = pd.read_csv(\"train_data.csv\", delimiter='\\t', index_col=0)\n",
    "test_data = pd.read_csv(\"test_data.csv\", delimiter='\\t', index_col=0)"
   ]
  },
  {
   "cell_type": "code",
   "execution_count": 3,
   "metadata": {},
   "outputs": [],
   "source": [
    "train_data = train_data.reset_index(drop=True)\n",
    "test_data = test_data.reset_index(drop=True)"
   ]
  },
  {
   "cell_type": "code",
   "execution_count": 4,
   "metadata": {},
   "outputs": [
    {
     "name": "stdout",
     "output_type": "stream",
     "text": [
      "<class 'pandas.core.frame.DataFrame'>\n",
      "RangeIndex: 1319 entries, 0 to 1318\n",
      "Data columns (total 32 columns):\n",
      "ID           1319 non-null int64\n",
      "Age          1319 non-null float64\n",
      "Gender       1319 non-null float64\n",
      "Education    1319 non-null float64\n",
      "Country      1319 non-null float64\n",
      "Ethnicity    1319 non-null float64\n",
      "Nscore       1319 non-null float64\n",
      "Escore       1319 non-null float64\n",
      "Oscore       1319 non-null float64\n",
      "Ascore       1319 non-null float64\n",
      "Cscore       1319 non-null float64\n",
      "Impulsive    1319 non-null float64\n",
      "SS           1319 non-null float64\n",
      "Alcohol      1319 non-null object\n",
      "Amphet       1319 non-null object\n",
      "Amyl         1319 non-null object\n",
      "Benzos       1319 non-null object\n",
      "Caff         1319 non-null object\n",
      "Cannabis     1319 non-null object\n",
      "Choc         1319 non-null object\n",
      "Coke         1319 non-null object\n",
      "Crack        1319 non-null object\n",
      "Ecstacy      1319 non-null object\n",
      "Heroin       1319 non-null object\n",
      "Ketamine     1319 non-null object\n",
      "Legalh       1319 non-null object\n",
      "LSD          1319 non-null object\n",
      "Meth         1319 non-null object\n",
      "Mushrooms    1319 non-null object\n",
      "Nicotine     1319 non-null object\n",
      "Semer        1319 non-null object\n",
      "VSA          1319 non-null object\n",
      "dtypes: float64(12), int64(1), object(19)\n",
      "memory usage: 329.9+ KB\n"
     ]
    }
   ],
   "source": [
    "train_data.info()"
   ]
  },
  {
   "cell_type": "code",
   "execution_count": 5,
   "metadata": {},
   "outputs": [],
   "source": [
    "# Drop ID, Chocolate, the fake drug Semer, and legal substances\n",
    "train_data.drop(['ID', 'Choc', 'Semer', 'Alcohol', 'Nicotine', 'Caff','Legalh'], axis=1, inplace=True)\n",
    "test_data.drop(['ID', 'Choc', 'Semer', 'Alcohol', 'Nicotine', 'Caff','Legalh'], axis=1, inplace=True)"
   ]
  },
  {
   "cell_type": "code",
   "execution_count": 6,
   "metadata": {},
   "outputs": [],
   "source": [
    "for column in train_data.loc[:,'Amphet':]:\n",
    "    # get label encoding for column\n",
    "    train_data[column] = train_data[column].astype('category').cat.codes.astype('int32')\n",
    "    test_data[column] = test_data[column].astype('category').cat.codes.astype('int32')"
   ]
  },
  {
   "cell_type": "code",
   "execution_count": 7,
   "metadata": {},
   "outputs": [],
   "source": [
    "# Function to determine illegal drug usage per person\n",
    "def is_drug_user(row):\n",
    "    row = row['Amphet':]\n",
    "    num_zeros = (row == 0).astype(bool).sum()\n",
    "    if num_zeros == row.size:\n",
    "        return False\n",
    "    return True"
   ]
  },
  {
   "cell_type": "code",
   "execution_count": 8,
   "metadata": {},
   "outputs": [
    {
     "name": "stdout",
     "output_type": "stream",
     "text": [
      "<class 'pandas.core.frame.DataFrame'>\n",
      "RangeIndex: 1319 entries, 0 to 1318\n",
      "Data columns (total 26 columns):\n",
      "Age          1319 non-null float64\n",
      "Gender       1319 non-null float64\n",
      "Education    1319 non-null float64\n",
      "Country      1319 non-null float64\n",
      "Ethnicity    1319 non-null float64\n",
      "Nscore       1319 non-null float64\n",
      "Escore       1319 non-null float64\n",
      "Oscore       1319 non-null float64\n",
      "Ascore       1319 non-null float64\n",
      "Cscore       1319 non-null float64\n",
      "Impulsive    1319 non-null float64\n",
      "SS           1319 non-null float64\n",
      "Amphet       1319 non-null int32\n",
      "Amyl         1319 non-null int32\n",
      "Benzos       1319 non-null int32\n",
      "Cannabis     1319 non-null int32\n",
      "Coke         1319 non-null int32\n",
      "Crack        1319 non-null int32\n",
      "Ecstacy      1319 non-null int32\n",
      "Heroin       1319 non-null int32\n",
      "Ketamine     1319 non-null int32\n",
      "LSD          1319 non-null int32\n",
      "Meth         1319 non-null int32\n",
      "Mushrooms    1319 non-null int32\n",
      "VSA          1319 non-null int32\n",
      "Drug User    1319 non-null bool\n",
      "dtypes: bool(1), float64(12), int32(13)\n",
      "memory usage: 192.0 KB\n"
     ]
    }
   ],
   "source": [
    "# Combine illegal drug usage into a single boolean variable\n",
    "train_data['Drug User'] = train_data.apply(is_drug_user, axis=1)\n",
    "test_data['Drug User'] = test_data.apply(is_drug_user, axis=1)\n",
    "train_data.info()"
   ]
  },
  {
   "cell_type": "code",
   "execution_count": 9,
   "metadata": {},
   "outputs": [],
   "source": [
    "X_train = train_data.loc[:,'Age':'SS']\n",
    "y_train = train_data['Drug User']"
   ]
  },
  {
   "cell_type": "code",
   "execution_count": 10,
   "metadata": {},
   "outputs": [
    {
     "name": "stdout",
     "output_type": "stream",
     "text": [
      "['Age' 'Education' 'Country' 'Nscore' 'Escore' 'Oscore' 'Ascore' 'Cscore'\n",
      " 'Impulsive' 'SS']\n"
     ]
    },
    {
     "name": "stderr",
     "output_type": "stream",
     "text": [
      "/opt/anaconda3/lib/python3.7/site-packages/sklearn/ensemble/forest.py:245: FutureWarning: The default value of n_estimators will change from 10 in version 0.20 to 100 in 0.22.\n",
      "  \"10 in version 0.20 to 100 in 0.22.\", FutureWarning)\n"
     ]
    }
   ],
   "source": [
    "# Feature selection\n",
    "sel = SelectFromModel(RandomForestClassifier(random_state=0), threshold=0.05)\n",
    "sel.fit(X_train, y_train)\n",
    "selected_feat= X_train.columns[(sel.get_support())]\n",
    "print(selected_feat.values)"
   ]
  },
  {
   "cell_type": "code",
   "execution_count": 11,
   "metadata": {},
   "outputs": [],
   "source": [
    "# Grid search for random forest\n",
    "max_features = ['auto', 'sqrt']\n",
    "max_depth = [int(x) for x in np.linspace(5, 100, num = 20)] + [None]\n",
    "n_estimators = [int(x) for x in np.linspace(start = 100, stop = 1000, num = 20)]\n",
    "min_samples_split = [2, 5, 10]\n",
    "min_samples_leaf = [1, 2, 4]\n",
    "bootstrap = [True, False]\n",
    "grid = {'max_features': max_features,\n",
    "        'max_depth': max_depth,\n",
    "        'n_estimators': n_estimators,\n",
    "        'min_samples_split': min_samples_split,\n",
    "        'min_samples_leaf': min_samples_leaf,\n",
    "        'bootstrap': bootstrap}"
   ]
  },
  {
   "cell_type": "code",
   "execution_count": 12,
   "metadata": {},
   "outputs": [],
   "source": [
    "# Base classifier used for grid search\n",
    "forest = RandomForestClassifier(random_state=0)\n",
    "# Use 100 iterations and 10-fold cross-validation, using 4 cores\n",
    "forest_grid_search = RandomizedSearchCV(estimator = forest, param_distributions = grid, \n",
    "                               n_iter = 100, cv = 10, verbose=2, random_state=0, n_jobs = 4)"
   ]
  },
  {
   "cell_type": "code",
   "execution_count": 13,
   "metadata": {},
   "outputs": [],
   "source": [
    "# Use features selected for training and testing\n",
    "X_train = train_data[selected_feat.values]\n",
    "y_train = train_data['Drug User']\n",
    "\n",
    "X_test = test_data[selected_feat.values]\n",
    "y_test = test_data['Drug User']"
   ]
  },
  {
   "cell_type": "code",
   "execution_count": null,
   "metadata": {},
   "outputs": [
    {
     "name": "stdout",
     "output_type": "stream",
     "text": [
      "Fitting 10 folds for each of 100 candidates, totalling 1000 fits\n"
     ]
    },
    {
     "name": "stderr",
     "output_type": "stream",
     "text": [
      "[Parallel(n_jobs=4)]: Using backend LokyBackend with 4 concurrent workers.\n",
      "[Parallel(n_jobs=4)]: Done  33 tasks      | elapsed:   18.0s\n",
      "[Parallel(n_jobs=4)]: Done 154 tasks      | elapsed:  1.2min\n",
      "[Parallel(n_jobs=4)]: Done 357 tasks      | elapsed:  2.6min\n",
      "[Parallel(n_jobs=4)]: Done 640 tasks      | elapsed:  4.5min\n"
     ]
    }
   ],
   "source": [
    "# Fit features selected to grid search (slow process)\n",
    "forest_grid_search.fit(X_train, y_train)"
   ]
  },
  {
   "cell_type": "code",
   "execution_count": null,
   "metadata": {
    "scrolled": true
   },
   "outputs": [],
   "source": [
    "# Store the dictionary of best parameters\n",
    "params = forest_grid_search.best_params_\n",
    "params"
   ]
  },
  {
   "cell_type": "code",
   "execution_count": null,
   "metadata": {},
   "outputs": [],
   "source": [
    "search_data = pd.DataFrame(forest_grid_search.cv_results_)\n",
    "search_data.info()"
   ]
  },
  {
   "cell_type": "code",
   "execution_count": null,
   "metadata": {},
   "outputs": [],
   "source": [
    "# Convert estimators column to integer type\n",
    "search_data['param_n_estimators'] = search_data['param_n_estimators'].astype('int32')"
   ]
  },
  {
   "cell_type": "code",
   "execution_count": null,
   "metadata": {},
   "outputs": [],
   "source": [
    "estimators = search_data[['param_n_estimators', 'mean_fit_time', 'mean_test_score']].sort_values(\n",
    "    by=['param_n_estimators'])\n",
    "estimators.head"
   ]
  },
  {
   "cell_type": "code",
   "execution_count": null,
   "metadata": {},
   "outputs": [],
   "source": [
    "max_depths = search_data[['param_max_depth', 'mean_test_score']]\n",
    "# Remove rows with max depth of None for plotting\n",
    "max_depths = max_depths[max_depths['param_max_depth'].notnull()]\n",
    "# Sort values by max depth\n",
    "max_depths.sort_values(by=['param_max_depth'], inplace=True)\n",
    "max_depths.reset_index(drop=True, inplace=True)\n",
    "max_depths.head"
   ]
  },
  {
   "cell_type": "code",
   "execution_count": null,
   "metadata": {},
   "outputs": [],
   "source": [
    "# Plot visuals for grid search\n",
    "fig, (ax1, ax2, ax3) = plt.subplots(1, 3, sharex=False, sharey=False)\n",
    "plt.subplots_adjust(wspace=0.3)\n",
    "fig.set_size_inches(20, 5)\n",
    "\n",
    "ax1.plot(estimators['param_n_estimators'], estimators['mean_fit_time'], color='#cc5200')\n",
    "ax1.set_xlabel('Decision Trees')\n",
    "ax1.set_ylabel('Mean Training Time (s)')\n",
    "ax1.set_title('Mean Training Time by Number of Decision Trees', fontdict={'fontsize':10.5})\n",
    "\n",
    "ax2.plot(estimators['param_n_estimators'], estimators['mean_test_score'], color='#00b300')\n",
    "ax2.set_xlabel('Decision Trees')\n",
    "ax2.set_ylabel('Mean Test Score')\n",
    "ax2.set_title('Mean Test Score by Number of Decision Trees',fontdict={'fontsize':10.5})\n",
    "\n",
    "ax3.plot(max_depths['param_max_depth'], max_depths['mean_test_score'], color='#007acc')\n",
    "ax3.set_xlabel('Max Depth of Decision Trees')\n",
    "ax3.set_ylabel('Mean Test Score')\n",
    "ax3.set_title('Mean Test Score by Decision Tree Depth',fontdict={'fontsize':10.5})\n",
    "plt.show()"
   ]
  },
  {
   "cell_type": "code",
   "execution_count": null,
   "metadata": {},
   "outputs": [],
   "source": [
    "# Get mean cross-validation score using best paramaters from grid search\n",
    "forest = RandomForestClassifier(n_estimators=params['n_estimators'], min_samples_split=params['min_samples_split'], \n",
    "                                min_samples_leaf=params['min_samples_leaf'], max_features=params['max_features'], \n",
    "                                max_depth=params['max_depth'], bootstrap=params['bootstrap'], random_state=0)"
   ]
  },
  {
   "cell_type": "code",
   "execution_count": null,
   "metadata": {},
   "outputs": [],
   "source": [
    "scores = cross_val_score(forest, X_train, y_train, scoring='f1', cv=10)"
   ]
  },
  {
   "cell_type": "code",
   "execution_count": null,
   "metadata": {},
   "outputs": [],
   "source": [
    "print(\"Mean F1 Score: %f\"%(scores.mean()))"
   ]
  },
  {
   "cell_type": "code",
   "execution_count": null,
   "metadata": {},
   "outputs": [],
   "source": [
    "forest = RandomForestClassifier(n_estimators=params['n_estimators'], min_samples_split=params['min_samples_split'], \n",
    "                                min_samples_leaf=params['min_samples_leaf'], max_features=params['max_features'], \n",
    "                                max_depth=params['max_depth'], bootstrap=params['bootstrap'], random_state=0)\n",
    "forest.fit(X_train, y_train)"
   ]
  },
  {
   "cell_type": "code",
   "execution_count": null,
   "metadata": {},
   "outputs": [],
   "source": [
    "# Calculate metrics\n",
    "y_pred = forest.predict(X_test)\n",
    "accuracy  = metrics.accuracy_score(y_test, y_pred)\n",
    "error     = 1 - metrics.accuracy_score(y_test, y_pred)\n",
    "precision = metrics.precision_score(y_test, y_pred, average=None)\n",
    "recall    = metrics.recall_score(y_test, y_pred, average=None)\n",
    "f1_score  = metrics.f1_score(y_test, y_pred, average=None)\n",
    "print('Accuracy:  ', '%0.3f'%(accuracy))\n",
    "print('Error:     ', '%0.3f'%(error))\n",
    "print('Precision: ', precision)\n",
    "print('Recall:    ', recall)\n",
    "print('F1 score:  ', f1_score)"
   ]
  },
  {
   "cell_type": "code",
   "execution_count": null,
   "metadata": {},
   "outputs": [],
   "source": []
  }
 ],
 "metadata": {
  "kernelspec": {
   "display_name": "Python 3",
   "language": "python",
   "name": "python3"
  },
  "language_info": {
   "codemirror_mode": {
    "name": "ipython",
    "version": 3
   },
   "file_extension": ".py",
   "mimetype": "text/x-python",
   "name": "python",
   "nbconvert_exporter": "python",
   "pygments_lexer": "ipython3",
   "version": "3.7.4"
  }
 },
 "nbformat": 4,
 "nbformat_minor": 2
}
