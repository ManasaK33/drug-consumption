{
 "cells": [
  {
   "cell_type": "code",
   "execution_count": 1,
   "metadata": {},
   "outputs": [],
   "source": [
    "import pandas as pd\n",
    "import numpy as np\n",
    "import matplotlib.pyplot as plt\n",
    "from sklearn.ensemble import RandomForestClassifier\n",
    "from sklearn.model_selection import cross_val_score\n",
    "from sklearn.model_selection import RandomizedSearchCV\n",
    "from sklearn.feature_selection import SelectFromModel\n",
    "from sklearn import metrics\n",
    "from scipy.stats import pearsonr\n",
    "from scipy.stats import spearmanr"
   ]
  },
  {
   "cell_type": "code",
   "execution_count": 2,
   "metadata": {},
   "outputs": [],
   "source": [
    "train_data = pd.read_csv(\"train_data.csv\", delimiter='\\t', index_col=0)\n",
    "test_data = pd.read_csv(\"test_data.csv\", delimiter='\\t', index_col=0)"
   ]
  },
  {
   "cell_type": "code",
   "execution_count": 3,
   "metadata": {},
   "outputs": [],
   "source": [
    "train_data = train_data.reset_index(drop=True)\n",
    "test_data = test_data.reset_index(drop=True)"
   ]
  },
  {
   "cell_type": "code",
   "execution_count": 4,
   "metadata": {},
   "outputs": [
    {
     "name": "stdout",
     "output_type": "stream",
     "text": [
      "<class 'pandas.core.frame.DataFrame'>\n",
      "RangeIndex: 1319 entries, 0 to 1318\n",
      "Data columns (total 32 columns):\n",
      "ID           1319 non-null int64\n",
      "Age          1319 non-null float64\n",
      "Gender       1319 non-null float64\n",
      "Education    1319 non-null float64\n",
      "Country      1319 non-null float64\n",
      "Ethnicity    1319 non-null float64\n",
      "Nscore       1319 non-null float64\n",
      "Escore       1319 non-null float64\n",
      "Oscore       1319 non-null float64\n",
      "Ascore       1319 non-null float64\n",
      "Cscore       1319 non-null float64\n",
      "Impulsive    1319 non-null float64\n",
      "SS           1319 non-null float64\n",
      "Alcohol      1319 non-null object\n",
      "Amphet       1319 non-null object\n",
      "Amyl         1319 non-null object\n",
      "Benzos       1319 non-null object\n",
      "Caff         1319 non-null object\n",
      "Cannabis     1319 non-null object\n",
      "Choc         1319 non-null object\n",
      "Coke         1319 non-null object\n",
      "Crack        1319 non-null object\n",
      "Ecstacy      1319 non-null object\n",
      "Heroin       1319 non-null object\n",
      "Ketamine     1319 non-null object\n",
      "Legalh       1319 non-null object\n",
      "LSD          1319 non-null object\n",
      "Meth         1319 non-null object\n",
      "Mushrooms    1319 non-null object\n",
      "Nicotine     1319 non-null object\n",
      "Semer        1319 non-null object\n",
      "VSA          1319 non-null object\n",
      "dtypes: float64(12), int64(1), object(19)\n",
      "memory usage: 329.9+ KB\n"
     ]
    }
   ],
   "source": [
    "train_data.info()"
   ]
  },
  {
   "cell_type": "code",
   "execution_count": 5,
   "metadata": {},
   "outputs": [],
   "source": [
    "# Drop ID, Chocolate, the fake drug Semer, and legal substances\n",
    "train_data.drop(['ID', 'Choc', 'Semer', 'Alcohol', 'Nicotine', 'Caff','Legalh'], axis=1, inplace=True)\n",
    "test_data.drop(['ID', 'Choc', 'Semer', 'Alcohol', 'Nicotine', 'Caff','Legalh'], axis=1, inplace=True)"
   ]
  },
  {
   "cell_type": "code",
   "execution_count": 6,
   "metadata": {},
   "outputs": [],
   "source": [
    "for column in train_data.loc[:,'Amphet':]:\n",
    "    # get label encoding for column\n",
    "    train_data[column] = train_data[column].astype('category').cat.codes.astype('int32')\n",
    "    test_data[column] = test_data[column].astype('category').cat.codes.astype('int32')"
   ]
  },
  {
   "cell_type": "code",
   "execution_count": 7,
   "metadata": {},
   "outputs": [],
   "source": [
    "# Function to determine illegal drug usage per person\n",
    "def is_drug_user(row):\n",
    "    row = row['Amphet':]\n",
    "    num_zeros = (row == 0).astype(bool).sum()\n",
    "    if num_zeros == row.size:\n",
    "        return False\n",
    "    return True"
   ]
  },
  {
   "cell_type": "code",
   "execution_count": 8,
   "metadata": {},
   "outputs": [
    {
     "name": "stdout",
     "output_type": "stream",
     "text": [
      "<class 'pandas.core.frame.DataFrame'>\n",
      "RangeIndex: 1319 entries, 0 to 1318\n",
      "Data columns (total 26 columns):\n",
      "Age          1319 non-null float64\n",
      "Gender       1319 non-null float64\n",
      "Education    1319 non-null float64\n",
      "Country      1319 non-null float64\n",
      "Ethnicity    1319 non-null float64\n",
      "Nscore       1319 non-null float64\n",
      "Escore       1319 non-null float64\n",
      "Oscore       1319 non-null float64\n",
      "Ascore       1319 non-null float64\n",
      "Cscore       1319 non-null float64\n",
      "Impulsive    1319 non-null float64\n",
      "SS           1319 non-null float64\n",
      "Amphet       1319 non-null int32\n",
      "Amyl         1319 non-null int32\n",
      "Benzos       1319 non-null int32\n",
      "Cannabis     1319 non-null int32\n",
      "Coke         1319 non-null int32\n",
      "Crack        1319 non-null int32\n",
      "Ecstacy      1319 non-null int32\n",
      "Heroin       1319 non-null int32\n",
      "Ketamine     1319 non-null int32\n",
      "LSD          1319 non-null int32\n",
      "Meth         1319 non-null int32\n",
      "Mushrooms    1319 non-null int32\n",
      "VSA          1319 non-null int32\n",
      "Drug User    1319 non-null bool\n",
      "dtypes: bool(1), float64(12), int32(13)\n",
      "memory usage: 192.0 KB\n"
     ]
    }
   ],
   "source": [
    "# Combine illegal drug usage into a single boolean variable\n",
    "train_data['Drug User'] = train_data.apply(is_drug_user, axis=1)\n",
    "test_data['Drug User'] = test_data.apply(is_drug_user, axis=1)\n",
    "train_data.info()"
   ]
  },
  {
   "cell_type": "code",
   "execution_count": 9,
   "metadata": {},
   "outputs": [],
   "source": [
    "X_train = train_data.loc[:,'Age':'SS']\n",
    "y_train = train_data['Drug User']"
   ]
  },
  {
   "cell_type": "code",
   "execution_count": 10,
   "metadata": {},
   "outputs": [
    {
     "name": "stdout",
     "output_type": "stream",
     "text": [
      "['Age' 'Education' 'Country' 'Nscore' 'Escore' 'Oscore' 'Ascore' 'Cscore'\n",
      " 'Impulsive' 'SS']\n"
     ]
    },
    {
     "name": "stderr",
     "output_type": "stream",
     "text": [
      "/opt/anaconda3/lib/python3.7/site-packages/sklearn/ensemble/forest.py:245: FutureWarning: The default value of n_estimators will change from 10 in version 0.20 to 100 in 0.22.\n",
      "  \"10 in version 0.20 to 100 in 0.22.\", FutureWarning)\n"
     ]
    }
   ],
   "source": [
    "# Feature selection\n",
    "sel = SelectFromModel(RandomForestClassifier(random_state=0), threshold=0.05)\n",
    "sel.fit(X_train, y_train)\n",
    "selected_feat= X_train.columns[(sel.get_support())]\n",
    "print(selected_feat.values)"
   ]
  },
  {
   "cell_type": "code",
   "execution_count": 11,
   "metadata": {},
   "outputs": [],
   "source": [
    "# Grid search for random forest\n",
    "max_features = ['auto', 'sqrt']\n",
    "max_depth = [int(x) for x in np.linspace(5, 100, num = 20)] + [None]\n",
    "n_estimators = [int(x) for x in np.linspace(start = 100, stop = 1000, num = 20)]\n",
    "min_samples_split = [2, 5, 10]\n",
    "min_samples_leaf = [1, 2, 4]\n",
    "bootstrap = [True, False]\n",
    "grid = {'max_features': max_features,\n",
    "        'max_depth': max_depth,\n",
    "        'n_estimators': n_estimators,\n",
    "        'min_samples_split': min_samples_split,\n",
    "        'min_samples_leaf': min_samples_leaf,\n",
    "        'bootstrap': bootstrap}"
   ]
  },
  {
   "cell_type": "code",
   "execution_count": 12,
   "metadata": {},
   "outputs": [],
   "source": [
    "# Base classifier used for grid search\n",
    "forest = RandomForestClassifier(random_state=0)\n",
    "# Use 100 iterations and 10-fold cross-validation, using 4 cores\n",
    "forest_grid_search = RandomizedSearchCV(estimator = forest, param_distributions = grid, \n",
    "                               n_iter = 100, cv = 10, verbose=2, random_state=0, n_jobs = 4)"
   ]
  },
  {
   "cell_type": "code",
   "execution_count": 13,
   "metadata": {},
   "outputs": [],
   "source": [
    "# Use features selected for training and testing\n",
    "X_train = train_data[selected_feat.values]\n",
    "y_train = train_data['Drug User']\n",
    "\n",
    "X_test = test_data[selected_feat.values]\n",
    "y_test = test_data['Drug User']"
   ]
  },
  {
   "cell_type": "code",
   "execution_count": 14,
   "metadata": {},
   "outputs": [
    {
     "name": "stdout",
     "output_type": "stream",
     "text": [
      "Fitting 10 folds for each of 100 candidates, totalling 1000 fits\n"
     ]
    },
    {
     "name": "stderr",
     "output_type": "stream",
     "text": [
      "[Parallel(n_jobs=4)]: Using backend LokyBackend with 4 concurrent workers.\n",
      "[Parallel(n_jobs=4)]: Done  33 tasks      | elapsed:   17.3s\n",
      "[Parallel(n_jobs=4)]: Done 154 tasks      | elapsed:  1.2min\n",
      "[Parallel(n_jobs=4)]: Done 357 tasks      | elapsed:  2.7min\n",
      "[Parallel(n_jobs=4)]: Done 640 tasks      | elapsed:  4.6min\n",
      "[Parallel(n_jobs=4)]: Done 1000 out of 1000 | elapsed:  7.0min finished\n"
     ]
    },
    {
     "data": {
      "text/plain": [
       "RandomizedSearchCV(cv=10, error_score='raise-deprecating',\n",
       "                   estimator=RandomForestClassifier(bootstrap=True,\n",
       "                                                    class_weight=None,\n",
       "                                                    criterion='gini',\n",
       "                                                    max_depth=None,\n",
       "                                                    max_features='auto',\n",
       "                                                    max_leaf_nodes=None,\n",
       "                                                    min_impurity_decrease=0.0,\n",
       "                                                    min_impurity_split=None,\n",
       "                                                    min_samples_leaf=1,\n",
       "                                                    min_samples_split=2,\n",
       "                                                    min_weight_fraction_leaf=0.0,\n",
       "                                                    n_estimators='warn',\n",
       "                                                    n_jobs=None,\n",
       "                                                    oob_s...\n",
       "                                        'max_depth': [5, 10, 15, 20, 25, 30, 35,\n",
       "                                                      40, 45, 50, 55, 60, 65,\n",
       "                                                      70, 75, 80, 85, 90, 95,\n",
       "                                                      100, None],\n",
       "                                        'max_features': ['auto', 'sqrt'],\n",
       "                                        'min_samples_leaf': [1, 2, 4],\n",
       "                                        'min_samples_split': [2, 5, 10],\n",
       "                                        'n_estimators': [100, 147, 194, 242,\n",
       "                                                         289, 336, 384, 431,\n",
       "                                                         478, 526, 573, 621,\n",
       "                                                         668, 715, 763, 810,\n",
       "                                                         857, 905, 952, 1000]},\n",
       "                   pre_dispatch='2*n_jobs', random_state=0, refit=True,\n",
       "                   return_train_score=False, scoring=None, verbose=2)"
      ]
     },
     "execution_count": 14,
     "metadata": {},
     "output_type": "execute_result"
    }
   ],
   "source": [
    "# Fit features selected to grid search (slow process)\n",
    "forest_grid_search.fit(X_train, y_train)"
   ]
  },
  {
   "cell_type": "code",
   "execution_count": 15,
   "metadata": {
    "scrolled": true
   },
   "outputs": [],
   "source": [
    "params = forest_grid_search.best_params_"
   ]
  },
  {
   "cell_type": "code",
   "execution_count": 35,
   "metadata": {},
   "outputs": [
    {
     "name": "stdout",
     "output_type": "stream",
     "text": [
      "<class 'pandas.core.frame.DataFrame'>\n",
      "RangeIndex: 100 entries, 0 to 99\n",
      "Data columns (total 24 columns):\n",
      "mean_fit_time              100 non-null float64\n",
      "std_fit_time               100 non-null float64\n",
      "mean_score_time            100 non-null float64\n",
      "std_score_time             100 non-null float64\n",
      "param_n_estimators         100 non-null object\n",
      "param_min_samples_split    100 non-null object\n",
      "param_min_samples_leaf     100 non-null object\n",
      "param_max_features         100 non-null object\n",
      "param_max_depth            93 non-null object\n",
      "param_bootstrap            100 non-null object\n",
      "params                     100 non-null object\n",
      "split0_test_score          100 non-null float64\n",
      "split1_test_score          100 non-null float64\n",
      "split2_test_score          100 non-null float64\n",
      "split3_test_score          100 non-null float64\n",
      "split4_test_score          100 non-null float64\n",
      "split5_test_score          100 non-null float64\n",
      "split6_test_score          100 non-null float64\n",
      "split7_test_score          100 non-null float64\n",
      "split8_test_score          100 non-null float64\n",
      "split9_test_score          100 non-null float64\n",
      "mean_test_score            100 non-null float64\n",
      "std_test_score             100 non-null float64\n",
      "rank_test_score            100 non-null int32\n",
      "dtypes: float64(16), int32(1), object(7)\n",
      "memory usage: 18.5+ KB\n"
     ]
    }
   ],
   "source": [
    "search_data = pd.DataFrame(forest_grid_search.cv_results_)\n",
    "search_data.info()"
   ]
  },
  {
   "cell_type": "code",
   "execution_count": 36,
   "metadata": {},
   "outputs": [],
   "source": [
    "search_data['param_n_estimators'] = search_data['param_n_estimators'].astype('int32')"
   ]
  },
  {
   "cell_type": "code",
   "execution_count": 37,
   "metadata": {},
   "outputs": [
    {
     "data": {
      "text/plain": [
       "<bound method NDFrame.head of     param_n_estimators  mean_fit_time  mean_test_score\n",
       "37                 100       0.265417         0.840788\n",
       "64                 100       0.283532         0.844579\n",
       "94                 100       0.722160         0.843821\n",
       "66                 147       0.368234         0.840788\n",
       "26                 147       0.392712         0.846096\n",
       "..                 ...            ...              ...\n",
       "6                 1000       2.543067         0.842305\n",
       "5                 1000       2.678169         0.846096\n",
       "1                 1000       2.490128         0.842305\n",
       "17                1000       2.808630         0.848370\n",
       "41                1000       2.524662         0.847612\n",
       "\n",
       "[100 rows x 3 columns]>"
      ]
     },
     "execution_count": 37,
     "metadata": {},
     "output_type": "execute_result"
    }
   ],
   "source": [
    "estimators = search_data[['param_n_estimators', 'mean_fit_time', 'mean_test_score']].sort_values(\n",
    "    by=['param_n_estimators'])\n",
    "estimators.head"
   ]
  },
  {
   "cell_type": "code",
   "execution_count": 73,
   "metadata": {},
   "outputs": [
    {
     "data": {
      "image/png": "[encoded data removed]",
      "text/plain": [
       "<Figure size 432x288 with 2 Axes>"
      ]
     },
     "metadata": {
      "needs_background": "light"
     },
     "output_type": "display_data"
    }
   ],
   "source": [
    "fig, (ax1, ax2) = plt.subplots(1, 2, sharex=False, sharey=False)\n",
    "ax1.plot(estimators['param_n_estimators'], estimators['mean_fit_time'], color='#cc5200')\n",
    "ax2.plot(estimators['param_n_estimators'], estimators['mean_test_score'], color='#00b300')\n",
    "plt.show()"
   ]
  },
  {
   "cell_type": "code",
   "execution_count": 65,
   "metadata": {},
   "outputs": [
    {
     "data": {
      "text/plain": [
       "[<matplotlib.lines.Line2D at 0x1a2628f250>]"
      ]
     },
     "execution_count": 65,
     "metadata": {},
     "output_type": "execute_result"
    }
   ],
   "source": [
    "ax1.plot(estimators['param_n_estimators'], estimators['mean_fit_time'], color='#cc5200')\n",
    "#plt.ylabel('Mean Training Time')\n",
    "#plt.xlabel('Decision Trees')\n",
    "#plt.title('Mean Training Time by Number of Decision Trees')\n",
    "#plt.show()"
   ]
  },
  {
   "cell_type": "code",
   "execution_count": 66,
   "metadata": {},
   "outputs": [
    {
     "data": {
      "text/plain": [
       "[<matplotlib.lines.Line2D at 0x1a262a0a50>]"
      ]
     },
     "execution_count": 66,
     "metadata": {},
     "output_type": "execute_result"
    }
   ],
   "source": [
    "ax2.plot(estimators['param_n_estimators'], estimators['mean_test_score'], color='#00b300')\n",
    "#plt.ylabel('Mean Test Score')\n",
    "#plt.xlabel('Decision Trees')\n",
    "#plt.title('Mean Test Score by Number of Decision Trees')\n",
    "#plt.show()"
   ]
  },
  {
   "cell_type": "code",
   "execution_count": 67,
   "metadata": {},
   "outputs": [
    {
     "name": "stdout",
     "output_type": "stream",
     "text": [
      "<class 'pandas.core.frame.DataFrame'>\n",
      "RangeIndex: 93 entries, 0 to 92\n",
      "Data columns (total 2 columns):\n",
      "param_max_depth    93 non-null object\n",
      "mean_test_score    93 non-null float64\n",
      "dtypes: float64(1), object(1)\n",
      "memory usage: 1.6+ KB\n"
     ]
    }
   ],
   "source": [
    "#pd.set_option('display.max_rows', 500)\n",
    "max_depths = search_data[['param_max_depth', 'mean_test_score']]\n",
    "max_depths = max_depths[max_depths['param_max_depth'].notnull()]\n",
    "max_depths.reset_index(drop=True, inplace=True)\n",
    "max_depths.info()"
   ]
  },
  {
   "cell_type": "code",
   "execution_count": 68,
   "metadata": {},
   "outputs": [
    {
     "data": {
      "text/plain": [
       "<bound method NDFrame.head of    param_max_depth  mean_test_score\n",
       "0               40         0.846096\n",
       "1               45         0.842305\n",
       "2               35         0.841547\n",
       "3               50         0.845337\n",
       "4               80         0.836240\n",
       "5               70         0.846096\n",
       "6               90         0.842305\n",
       "7               25         0.835481\n",
       "8                5         0.844579\n",
       "9               65         0.845337\n",
       "10              85         0.846854\n",
       "11              95         0.840030\n",
       "12              95         0.844579\n",
       "13              50         0.846096\n",
       "14             100         0.842305\n",
       "15              10         0.845337\n",
       "16              40         0.848370\n",
       "17              40         0.841547\n",
       "18              35         0.843821\n",
       "19               5         0.843821\n",
       "20              45         0.843821\n",
       "21              35         0.840788\n",
       "22              10         0.846096\n",
       "23              50         0.833207\n",
       "24              90         0.846854\n",
       "25             100         0.846096\n",
       "26              85         0.846854\n",
       "27              35         0.843063\n",
       "28              75         0.846096\n",
       "29              70         0.844579\n",
       "30               5         0.843821\n",
       "31              30         0.849128\n",
       "32              30         0.846096\n",
       "33               5         0.843821\n",
       "34              35         0.847612\n",
       "35              15         0.834723\n",
       "36              40         0.840788\n",
       "37              15         0.845337\n",
       "38              15         0.847612\n",
       "39              10         0.843821\n",
       "40              45         0.847612\n",
       "41              15         0.841547\n",
       "42              50         0.846854\n",
       "43              40         0.848370\n",
       "44              70         0.846096\n",
       "45              20         0.836998\n",
       "46              95         0.846096\n",
       "47              10         0.846096\n",
       "48              35         0.847612\n",
       "49              15         0.842305\n",
       "50              50         0.834723\n",
       "51              60         0.841547\n",
       "52              50         0.837756\n",
       "53              20         0.846854\n",
       "54              90         0.844579\n",
       "55              20         0.842305\n",
       "56              40         0.833207\n",
       "57              40         0.840788\n",
       "58              85         0.846096\n",
       "59              55         0.843821\n",
       "60              50         0.844579\n",
       "61              20         0.840030\n",
       "62              70         0.840788\n",
       "63             100         0.836998\n",
       "64              75         0.840030\n",
       "65              25         0.843063\n",
       "66              55         0.840788\n",
       "67              90         0.840788\n",
       "68              70         0.844579\n",
       "69              65         0.846096\n",
       "70              85         0.841547\n",
       "71              70         0.841547\n",
       "72              65         0.840788\n",
       "73              40         0.838514\n",
       "74             100         0.834723\n",
       "75              65         0.840788\n",
       "76              55         0.835481\n",
       "77              15         0.834723\n",
       "78              60         0.847612\n",
       "79              95         0.840030\n",
       "80              45         0.836240\n",
       "81              40         0.847612\n",
       "82              35         0.842305\n",
       "83              45         0.846854\n",
       "84              50         0.840030\n",
       "85              70         0.840030\n",
       "86              35         0.846854\n",
       "87              65         0.843821\n",
       "88              80         0.833965\n",
       "89             100         0.846096\n",
       "90              15         0.843821\n",
       "91              75         0.840030\n",
       "92              95         0.833965>"
      ]
     },
     "execution_count": 68,
     "metadata": {},
     "output_type": "execute_result"
    }
   ],
   "source": [
    "max_depths.head"
   ]
  },
  {
   "cell_type": "code",
   "execution_count": 69,
   "metadata": {},
   "outputs": [],
   "source": [
    "max_depths = max_depths.sort_values(by=['param_max_depth'])"
   ]
  },
  {
   "cell_type": "code",
   "execution_count": 70,
   "metadata": {},
   "outputs": [],
   "source": [
    "ax3.plot(max_depths['param_max_depth'], max_depths['mean_test_score'], color='#007acc')\n",
    "#plt.ylabel('Mean Test Score')\n",
    "#plt.xlabel('Max Depth of Decision Trees')\n",
    "#plt.title('Mean Test Score by Decision Tree Depth')\n",
    "plt.show()"
   ]
  },
  {
   "cell_type": "code",
   "execution_count": null,
   "metadata": {},
   "outputs": [],
   "source": []
  },
  {
   "cell_type": "code",
   "execution_count": null,
   "metadata": {},
   "outputs": [],
   "source": []
  },
  {
   "cell_type": "code",
   "execution_count": null,
   "metadata": {},
   "outputs": [],
   "source": [
    "plt.plot(search_data['param_n_estimators'], search_data['mean_fit_time'])\n",
    "plt.ylabel('Mean Test Score')\n",
    "plt.show()"
   ]
  },
  {
   "cell_type": "code",
   "execution_count": null,
   "metadata": {},
   "outputs": [],
   "source": [
    "estimators = search_data[['param_min_samples_split', 'mean_test_score']].sort_values(by=['param_min_samples_split'])\n",
    "print(estimators.head)\n",
    "\n",
    "plt.plot(estimators['param_min_samples_split'], estimators['mean_test_score'])\n",
    "plt.ylabel('Estimators')\n",
    "plt.show()"
   ]
  },
  {
   "cell_type": "code",
   "execution_count": null,
   "metadata": {},
   "outputs": [],
   "source": [
    "search_data['param_n_estimators']"
   ]
  },
  {
   "cell_type": "code",
   "execution_count": null,
   "metadata": {},
   "outputs": [],
   "source": []
  },
  {
   "cell_type": "code",
   "execution_count": null,
   "metadata": {},
   "outputs": [],
   "source": []
  },
  {
   "cell_type": "code",
   "execution_count": null,
   "metadata": {},
   "outputs": [],
   "source": [
    "# Get mean cross-validation score using best paramaters from grid search (hard-coded to skip grid search on rerun)\n",
    "forest = RandomForestClassifier(n_estimators=194, min_samples_split=2, \n",
    "                                min_samples_leaf=2, max_features='auto', \n",
    "                                max_depth=35, bootstrap=True, random_state=0)"
   ]
  },
  {
   "cell_type": "code",
   "execution_count": null,
   "metadata": {},
   "outputs": [],
   "source": [
    "scores = cross_val_score(forest, X_train, y_train, scoring='f1', cv=10)"
   ]
  },
  {
   "cell_type": "code",
   "execution_count": null,
   "metadata": {},
   "outputs": [],
   "source": [
    "print(\"Mean F1 Score: %f\"%(scores.mean()))"
   ]
  },
  {
   "cell_type": "code",
   "execution_count": null,
   "metadata": {},
   "outputs": [],
   "source": [
    "forest = RandomForestClassifier(n_estimators=194, min_samples_split=2, \n",
    "                                min_samples_leaf=2, max_features='auto', \n",
    "                                max_depth=35, bootstrap=True, random_state=0)\n",
    "forest.fit(X_train, y_train)"
   ]
  },
  {
   "cell_type": "code",
   "execution_count": null,
   "metadata": {},
   "outputs": [],
   "source": [
    "# Calculate metrics\n",
    "y_pred = forest.predict(X_test)\n",
    "accuracy  = metrics.accuracy_score(y_test, y_pred)\n",
    "error     = 1 - metrics.accuracy_score(y_test, y_pred)\n",
    "precision = metrics.precision_score(y_test, y_pred, average=None)\n",
    "recall    = metrics.recall_score(y_test, y_pred, average=None)\n",
    "f1_score  = metrics.f1_score(y_test, y_pred, average=None)\n",
    "print('Accuracy:  ', '%0.3f'%(accuracy))\n",
    "print('Error:     ', '%0.3f'%(error))\n",
    "print('Precision: ', precision)\n",
    "print('Recall:    ', recall)\n",
    "print('F1 score:  ', f1_score)"
   ]
  }
 ],
 "metadata": {
  "kernelspec": {
   "display_name": "Python 3",
   "language": "python",
   "name": "python3"
  },
  "language_info": {
   "codemirror_mode": {
    "name": "ipython",
    "version": 3
   },
   "file_extension": ".py",
   "mimetype": "text/x-python",
   "name": "python",
   "nbconvert_exporter": "python",
   "pygments_lexer": "ipython3",
   "version": "3.7.4"
  }
 },
 "nbformat": 4,
 "nbformat_minor": 2
}
